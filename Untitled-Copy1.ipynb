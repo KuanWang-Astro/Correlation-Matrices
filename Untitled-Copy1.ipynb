{
 "cells": [
  {
   "cell_type": "code",
   "execution_count": 1,
   "metadata": {
    "collapsed": true
   },
   "outputs": [],
   "source": [
    "import gc\n",
    "import numpy as np\n",
    "\n",
    "import matplotlib.pyplot as plt\n",
    "%matplotlib inline\n",
    "%config InlineBackend.figure_format='retina'\n",
    "\n",
    "from halotools.sim_manager import CachedHaloCatalog\n",
    "\n",
    "import sys\n",
    "sys.path.append('../Compute statistics new/')\n",
    "\n",
    "from HOD_models import decorated_hod_model\n",
    "from HOD_models import standard_hod_model\n",
    "\n",
    "from halotools.empirical_models import MockFactory\n",
    "\n",
    "from halotools.mock_observables import return_xyz_formatted_array\n",
    "from halotools.utils import randomly_downsample_data\n",
    "from halotools.mock_observables import wp\n",
    "\n",
    "from helpers.CorrelationFunction import projected_correlation"
   ]
  },
  {
   "cell_type": "code",
   "execution_count": 2,
   "metadata": {
    "collapsed": false
   },
   "outputs": [],
   "source": [
    "param_w = np.array((1.02654941214,13.1879106954,0.8781897069,12.1031391855,12.2692942798,0.91596941012,0.0258608345476))\n",
    "param_wo = np.array((1.14385007593,13.2858403826,0.348464903173,11.3075027005,11.9718570282))"
   ]
  },
  {
   "cell_type": "code",
   "execution_count": 3,
   "metadata": {
    "collapsed": false
   },
   "outputs": [],
   "source": [
    "Lbox1 = 250\n",
    "Lbox2 = 500\n",
    "simname1 = 'bolplanck'\n",
    "version1 = 'halotools_v0p4'\n",
    "simname2 = 'diemerL0500'\n",
    "version2 = 'antonio'\n",
    "halofinder = 'rockstar'\n",
    "redshift = 0\n",
    "rbins = np.logspace(-1, 1.5, 13)\n",
    "pi_max = 60"
   ]
  },
  {
   "cell_type": "code",
   "execution_count": 4,
   "metadata": {
    "collapsed": true
   },
   "outputs": [],
   "source": [
    "Nsidejk1 = 10\n",
    "Nsidejk2 = 20"
   ]
  },
  {
   "cell_type": "code",
   "execution_count": 5,
   "metadata": {
    "collapsed": true
   },
   "outputs": [],
   "source": [
    "halocat1 = CachedHaloCatalog(simname = simname1, version_name = version1,redshift = redshift, \\\n",
    "                                halo_finder = halofinder)\n",
    "halocat2 = CachedHaloCatalog(simname = simname2, version_name = version2,redshift = redshift, \\\n",
    "                                halo_finder = halofinder)"
   ]
  },
  {
   "cell_type": "code",
   "execution_count": 6,
   "metadata": {
    "collapsed": true
   },
   "outputs": [],
   "source": [
    "param_names = ('alpha','logM1','sigma_logM','logM0','logMmin',\\\n",
    "               'mean_occupation_centrals_assembias_param1','mean_occupation_satellites_assembias_param1')"
   ]
  },
  {
   "cell_type": "code",
   "execution_count": 7,
   "metadata": {
    "collapsed": false
   },
   "outputs": [],
   "source": [
    "model_w = decorated_hod_model()\n",
    "model_wo = standard_hod_model()"
   ]
  },
  {
   "cell_type": "code",
   "execution_count": 8,
   "metadata": {
    "collapsed": false
   },
   "outputs": [],
   "source": [
    "model_w.param_dict.update(dict(zip(param_names, param_w)))    ##update model.param_dict with pairs (param_names:params)\n",
    "\n",
    "model_w.populate_mock(halocat1)\n",
    "    \n",
    "gc.collect()\n",
    "\n",
    "model_wo.param_dict.update(dict(zip(param_names, param_wo)))    ##update model.param_dict with pairs (param_names:params)\n",
    "\n",
    "model_wo.populate_mock(halocat1)\n",
    "    \n",
    "gc.collect()\n",
    "\n",
    "pos_gals_w = return_xyz_formatted_array(*(model_w.mock.galaxy_table[ax] for ax in 'xyz'), \\\n",
    "            velocity=model_w.mock.galaxy_table['vz'], velocity_distortion_dimension='z',\\\n",
    "                                          period=Lbox1)             ##redshift space distorted\n",
    "pos_gals_w = np.array(pos_gals_w,dtype=float)\n",
    "\n",
    "pos_gals_wo = return_xyz_formatted_array(*(model_wo.mock.galaxy_table[ax] for ax in 'xyz'), \\\n",
    "            velocity=model_wo.mock.galaxy_table['vz'], velocity_distortion_dimension='z',\\\n",
    "                                          period=Lbox1)             ##redshift space distorted\n",
    "pos_gals_wo = np.array(pos_gals_wo,dtype=float)\n",
    "\n",
    "wp_w,wpcov_w = projected_correlation(pos_gals_w, rbins, pi_max, Lbox1, jackknife_nside=Nsidejk1)\n",
    "wp_wo,wpcov_wo = projected_correlation(pos_gals_wo, rbins, pi_max, Lbox1, jackknife_nside=Nsidejk1)\n",
    "\n",
    "sigma_wpcov_w = np.sqrt(wpcov_w.diagonal())\n",
    "corrmatrix_w = (wpcov_w/sigma_wpcov_w).T/sigma_wpcov_w\n",
    "sigma_wpcov_wo = np.sqrt(wpcov_wo.diagonal())\n",
    "corrmatrix_wo = (wpcov_wo/sigma_wpcov_wo).T/sigma_wpcov_wo"
   ]
  },
  {
   "cell_type": "code",
   "execution_count": 9,
   "metadata": {
    "collapsed": true
   },
   "outputs": [],
   "source": [
    "bolplanck_gal_w = pos_gals_w\n",
    "bolplanck_gal_wo = pos_gals_wo"
   ]
  },
  {
   "cell_type": "code",
   "execution_count": 10,
   "metadata": {
    "collapsed": true
   },
   "outputs": [],
   "source": [
    "def comb(mw,mwo):\n",
    "    m = np.copy(mw)\n",
    "    dim = m.shape[0]\n",
    "    for i in range(dim):\n",
    "        for j in range(dim):\n",
    "            if i>j:\n",
    "                m[i,j] = mwo[i,j]\n",
    "    return m"
   ]
  },
  {
   "cell_type": "code",
   "execution_count": 11,
   "metadata": {
    "collapsed": false
   },
   "outputs": [
    {
     "data": {
      "text/plain": [
       "<matplotlib.text.Text at 0x7f06115a5e50>"
      ]
     },
     "execution_count": 11,
     "metadata": {},
     "output_type": "execute_result"
    },
    {
     "data": {
      "image/png": "[encoded data removed]",
      "text/plain": [
       "<matplotlib.figure.Figure at 0x7f06115d7550>"
      ]
     },
     "metadata": {
      "image/png": {
       "height": 263,
       "width": 302
      }
     },
     "output_type": "display_data"
    }
   ],
   "source": [
    "plt.imshow(comb(corrmatrix_w,corrmatrix_wo),cmap='Reds',vmax=1,vmin=0,interpolation='None')\n",
    "plt.colorbar()\n",
    "plt.axhline(5,0,1,c='k')\n",
    "plt.axvline(5,0,1,c='k')\n",
    "plt.title('bolplanck, Yao\\'s code')"
   ]
  },
  {
   "cell_type": "code",
   "execution_count": 12,
   "metadata": {
    "collapsed": true
   },
   "outputs": [],
   "source": [
    "model_w.param_dict.update(dict(zip(param_names, param_w)))    ##update model.param_dict with pairs (param_names:params)\n",
    "\n",
    "model_w.populate_mock(halocat2)\n",
    "    \n",
    "gc.collect()\n",
    "\n",
    "model_wo.param_dict.update(dict(zip(param_names, param_wo)))    ##update model.param_dict with pairs (param_names:params)\n",
    "\n",
    "model_wo.populate_mock(halocat2)\n",
    "    \n",
    "gc.collect()\n",
    "\n",
    "pos_gals_w = return_xyz_formatted_array(*(model_w.mock.galaxy_table[ax] for ax in 'xyz'), \\\n",
    "            velocity=model_w.mock.galaxy_table['vz'], velocity_distortion_dimension='z',\\\n",
    "                                          period=Lbox2)             ##redshift space distorted\n",
    "pos_gals_w = np.array(pos_gals_w,dtype=float)\n",
    "\n",
    "pos_gals_wo = return_xyz_formatted_array(*(model_wo.mock.galaxy_table[ax] for ax in 'xyz'), \\\n",
    "            velocity=model_wo.mock.galaxy_table['vz'], velocity_distortion_dimension='z',\\\n",
    "                                          period=Lbox2)             ##redshift space distorted\n",
    "pos_gals_wo = np.array(pos_gals_wo,dtype=float)\n",
    "\n",
    "wp_w,wpcov_w = projected_correlation(pos_gals_w, rbins, pi_max, Lbox2, jackknife_nside=Nsidejk2)\n",
    "wp_wo,wpcov_wo = projected_correlation(pos_gals_wo, rbins, pi_max, Lbox2, jackknife_nside=Nsidejk2)\n",
    "\n",
    "sigma_wpcov_w = np.sqrt(wpcov_w.diagonal())\n",
    "corrmatrix_w = (wpcov_w/sigma_wpcov_w).T/sigma_wpcov_w\n",
    "sigma_wpcov_wo = np.sqrt(wpcov_wo.diagonal())\n",
    "corrmatrix_wo = (wpcov_wo/sigma_wpcov_wo).T/sigma_wpcov_wo"
   ]
  },
  {
   "cell_type": "code",
   "execution_count": 13,
   "metadata": {
    "collapsed": false
   },
   "outputs": [
    {
     "data": {
      "text/plain": [
       "<matplotlib.text.Text at 0x7f060649e1d0>"
      ]
     },
     "execution_count": 13,
     "metadata": {},
     "output_type": "execute_result"
    },
    {
     "data": {
      "image/png": "[encoded data removed]",
      "text/plain": [
       "<matplotlib.figure.Figure at 0x7f061140de10>"
      ]
     },
     "metadata": {
      "image/png": {
       "height": 263,
       "width": 302
      }
     },
     "output_type": "display_data"
    }
   ],
   "source": [
    "plt.imshow(comb(corrmatrix_w,corrmatrix_wo),cmap='Reds',vmax=1,vmin=0,interpolation='None')\n",
    "plt.colorbar()\n",
    "plt.axhline(5,0,1,c='k')\n",
    "plt.axvline(5,0,1,c='k')\n",
    "plt.title('diemer500, Yao\\'s code')"
   ]
  },
  {
   "cell_type": "code",
   "execution_count": 14,
   "metadata": {
    "collapsed": true
   },
   "outputs": [],
   "source": [
    "diemer500_gal_w = pos_gals_w\n",
    "diemer500_gal_wo = pos_gals_wo"
   ]
  },
  {
   "cell_type": "code",
   "execution_count": null,
   "metadata": {
    "collapsed": true
   },
   "outputs": [],
   "source": []
  },
  {
   "cell_type": "code",
   "execution_count": 15,
   "metadata": {
    "collapsed": false
   },
   "outputs": [
    {
     "data": {
      "text/plain": [
       "array([[  36.17984009,   43.14081955,   17.17459106],\n",
       "       [  45.36643982,   49.54417038,   38.73513031],\n",
       "       [  22.02318001,   13.88261032,    9.44962978],\n",
       "       ..., \n",
       "       [ 216.24649048,  229.92227173,  223.53067017],\n",
       "       [ 236.68730164,  230.50125122,  239.73497009],\n",
       "       [ 233.26837158,  214.49481201,  239.56297302]])"
      ]
     },
     "execution_count": 15,
     "metadata": {},
     "output_type": "execute_result"
    }
   ],
   "source": [
    "bolplanck_gal_w"
   ]
  },
  {
   "cell_type": "code",
   "execution_count": 16,
   "metadata": {
    "collapsed": false
   },
   "outputs": [
    {
     "data": {
      "text/plain": [
       "array([[  36.17984009,   43.14081955,   17.17459106],\n",
       "       [  45.36643982,   49.54417038,   38.73513031],\n",
       "       [  22.02318001,   13.88261032,    9.44962978],\n",
       "       ..., \n",
       "       [ 236.95066833,  200.10470581,  236.98240662],\n",
       "       [ 232.43884277,  223.32261658,  238.05357361],\n",
       "       [ 239.44799805,  204.79759216,  219.8004303 ]])"
      ]
     },
     "execution_count": 16,
     "metadata": {},
     "output_type": "execute_result"
    }
   ],
   "source": [
    "bolplanck_gal_wo"
   ]
  },
  {
   "cell_type": "code",
   "execution_count": 17,
   "metadata": {
    "collapsed": false
   },
   "outputs": [
    {
     "data": {
      "text/plain": [
       "array([[  12.40299   ,    1.15325   ,   18.59591   ],\n",
       "       [   4.49829   ,   18.78579   ,   14.08006   ],\n",
       "       [   0.59261   ,   20.8044    ,   15.10167   ],\n",
       "       ..., \n",
       "       [ 478.06571269,  487.68534917,  496.64163603],\n",
       "       [ 477.0127397 ,  491.26135571,  498.54004788],\n",
       "       [ 491.70694583,  485.17034196,  497.01683844]])"
      ]
     },
     "execution_count": 17,
     "metadata": {},
     "output_type": "execute_result"
    }
   ],
   "source": [
    "diemer500_gal_w"
   ]
  },
  {
   "cell_type": "code",
   "execution_count": 18,
   "metadata": {
    "collapsed": false
   },
   "outputs": [
    {
     "data": {
      "text/plain": [
       "array([[   4.79955   ,    3.00128   ,   14.77696   ],\n",
       "       [  14.78142   ,    2.80845   ,   16.40722   ],\n",
       "       [  12.40299   ,    1.15325   ,   18.59591   ],\n",
       "       ..., \n",
       "       [ 478.15838467,  487.78455811,  498.93878423],\n",
       "       [ 478.89895775,  484.40892216,  495.67831162],\n",
       "       [ 479.18094319,  484.67688488,  498.25330352]])"
      ]
     },
     "execution_count": 18,
     "metadata": {},
     "output_type": "execute_result"
    }
   ],
   "source": [
    "diemer500_gal_wo"
   ]
  },
  {
   "cell_type": "code",
   "execution_count": 20,
   "metadata": {
    "collapsed": true
   },
   "outputs": [],
   "source": [
    "np.savetxt('1127_bolplanck_gal_w', bolplanck_gal_w)\n",
    "np.savetxt('1127_bolplanck_gal_wo', bolplanck_gal_wo)\n",
    "np.savetxt('1127_diemer500_gal_w', diemer500_gal_w)\n",
    "np.savetxt('1127_diemer500_gal_wo', diemer500_gal_wo)"
   ]
  },
  {
   "cell_type": "code",
   "execution_count": null,
   "metadata": {
    "collapsed": true
   },
   "outputs": [],
   "source": []
  },
  {
   "cell_type": "code",
   "execution_count": null,
   "metadata": {
    "collapsed": true
   },
   "outputs": [],
   "source": []
  },
  {
   "cell_type": "code",
   "execution_count": null,
   "metadata": {
    "collapsed": true
   },
   "outputs": [],
   "source": []
  },
  {
   "cell_type": "code",
   "execution_count": 13,
   "metadata": {
    "collapsed": true
   },
   "outputs": [],
   "source": [
    "consuelo_box_list = ['0_4001','0_4002','0_4003','0_4004','0_4020','0_4026','0_4027','0_4028','0_4029','0_4030',\\\n",
    "            '0_4032','0_4033','0_4034','0_4035','0_4036','0_4037','0_4038','0_4039','0_4040']\n",
    "simname3 = 'consuelo20'"
   ]
  },
  {
   "cell_type": "code",
   "execution_count": 14,
   "metadata": {
    "collapsed": true
   },
   "outputs": [],
   "source": [
    "Lbox3 = 420"
   ]
  },
  {
   "cell_type": "code",
   "execution_count": 15,
   "metadata": {
    "collapsed": true
   },
   "outputs": [],
   "source": [
    "wp_con_w = []\n",
    "wp_con_wo = []"
   ]
  },
  {
   "cell_type": "code",
   "execution_count": 16,
   "metadata": {
    "collapsed": false
   },
   "outputs": [
    {
     "name": "stdout",
     "output_type": "stream",
     "text": [
      "0_4001\n",
      "0_4002\n",
      "0_4003\n",
      "0_4004\n",
      "0_4020\n",
      "0_4026\n",
      "0_4027\n",
      "0_4028\n",
      "0_4029\n",
      "0_4030\n",
      "0_4032\n",
      "0_4033\n",
      "0_4034\n",
      "0_4035\n",
      "0_4036\n",
      "0_4037\n",
      "0_4038\n",
      "0_4039\n",
      "0_4040\n"
     ]
    }
   ],
   "source": [
    "for ver in consuelo_box_list:\n",
    "    halocat3 = CachedHaloCatalog(simname = simname3, version_name = ver,redshift = redshift, \\\n",
    "                                halo_finder = halofinder)\n",
    "    model_w.param_dict.update(dict(zip(param_names, param_w)))    ##update model.param_dict with pairs (param_names:params)\n",
    "\n",
    "    model_w.populate_mock(halocat3)\n",
    "\n",
    "    gc.collect()\n",
    "\n",
    "    model_wo.param_dict.update(dict(zip(param_names, param_wo)))    ##update model.param_dict with pairs (param_names:params)\n",
    "\n",
    "    model_wo.populate_mock(halocat3)\n",
    "\n",
    "    gc.collect()\n",
    "\n",
    "    pos_gals_w = return_xyz_formatted_array(*(model_w.mock.galaxy_table[ax] for ax in 'xyz'), \\\n",
    "                velocity=model_w.mock.galaxy_table['vz'], velocity_distortion_dimension='z',\\\n",
    "                                              period=Lbox3)             ##redshift space distorted\n",
    "    pos_gals_w = np.array(pos_gals_w,dtype=float)\n",
    "\n",
    "    pos_gals_wo = return_xyz_formatted_array(*(model_wo.mock.galaxy_table[ax] for ax in 'xyz'), \\\n",
    "                velocity=model_wo.mock.galaxy_table['vz'], velocity_distortion_dimension='z',\\\n",
    "                                              period=Lbox3)             ##redshift space distorted\n",
    "    pos_gals_wo = np.array(pos_gals_wo,dtype=float)\n",
    "    \n",
    "    wp_con_w.append(wp(pos_gals_w,rbins,pi_max,period=Lbox3))\n",
    "    wp_con_wo.append(wp(pos_gals_wo,rbins,pi_max,period=Lbox3))\n",
    "    print ver"
   ]
  },
  {
   "cell_type": "code",
   "execution_count": 17,
   "metadata": {
    "collapsed": true
   },
   "outputs": [],
   "source": [
    "wp_con_w = np.array(wp_con_w)\n",
    "wp_con_wo = np.array(wp_con_wo)"
   ]
  },
  {
   "cell_type": "code",
   "execution_count": 18,
   "metadata": {
    "collapsed": true
   },
   "outputs": [],
   "source": [
    "corrmatrix_w = np.corrcoef(wp_con_w.T)\n",
    "corrmatrix_wo = np.corrcoef(wp_con_wo.T)"
   ]
  },
  {
   "cell_type": "code",
   "execution_count": 19,
   "metadata": {
    "collapsed": false
   },
   "outputs": [
    {
     "data": {
      "text/plain": [
       "<matplotlib.text.Text at 0x7faa955f5890>"
      ]
     },
     "execution_count": 19,
     "metadata": {},
     "output_type": "execute_result"
    },
    {
     "data": {
      "image/png": "[encoded data removed]",
      "text/plain": [
       "<matplotlib.figure.Figure at 0x7fab8aaa11d0>"
      ]
     },
     "metadata": {
      "image/png": {
       "height": 263,
       "width": 302
      }
     },
     "output_type": "display_data"
    }
   ],
   "source": [
    "plt.imshow(comb(corrmatrix_w,corrmatrix_wo),cmap='Reds',vmax=1,vmin=0,interpolation='None')\n",
    "plt.colorbar()\n",
    "plt.axhline(5,0,1,c='k')\n",
    "plt.axvline(5,0,1,c='k')\n",
    "plt.title('consuelo, 19 boxes')#check abs values"
   ]
  },
  {
   "cell_type": "code",
   "execution_count": 21,
   "metadata": {
    "collapsed": true
   },
   "outputs": [],
   "source": [
    "#consuelo jackknife"
   ]
  },
  {
   "cell_type": "code",
   "execution_count": 22,
   "metadata": {
    "collapsed": true
   },
   "outputs": [],
   "source": [
    "np.corrcoef?"
   ]
  },
  {
   "cell_type": "code",
   "execution_count": 24,
   "metadata": {
    "collapsed": false
   },
   "outputs": [
    {
     "data": {
      "text/plain": [
       "array([ 252.02914508,  134.0191862 ,   74.35391723,   38.52221389,\n",
       "         15.2904737 ,    7.87924063,    3.91941412,    2.57151595,\n",
       "          1.84782986,    1.54759266,    1.09066199,    0.68648686])"
      ]
     },
     "execution_count": 24,
     "metadata": {},
     "output_type": "execute_result"
    }
   ],
   "source": [
    "np.cov(wp_con_w.T).diagonal()"
   ]
  },
  {
   "cell_type": "code",
   "execution_count": 25,
   "metadata": {
    "collapsed": false
   },
   "outputs": [
    {
     "data": {
      "text/plain": [
       "array([ 155.18851407,   85.5121239 ,   54.16361062,   30.17573329,\n",
       "         12.18129409,    5.21634671,    2.63405036,    1.64724688,\n",
       "          1.35936062,    1.17089686,    0.82237283,    0.53525438])"
      ]
     },
     "execution_count": 25,
     "metadata": {},
     "output_type": "execute_result"
    }
   ],
   "source": [
    "np.cov(wp_con_wo.T).diagonal()"
   ]
  },
  {
   "cell_type": "code",
   "execution_count": 26,
   "metadata": {
    "collapsed": false
   },
   "outputs": [
    {
     "data": {
      "text/plain": [
       "array([ 833.15970118,  433.10263804,  272.13314851,  175.00143925,\n",
       "         81.86735052,   28.77262237,    6.89082558,    4.18082402,\n",
       "          3.26981871,    3.14811511,    2.92090891,    2.44641545])"
      ]
     },
     "execution_count": 26,
     "metadata": {},
     "output_type": "execute_result"
    }
   ],
   "source": [
    "wpcov_w.diagonal()"
   ]
  },
  {
   "cell_type": "code",
   "execution_count": 27,
   "metadata": {
    "collapsed": false
   },
   "outputs": [
    {
     "data": {
      "text/plain": [
       "array([ 967.30949065,  655.7575958 ,  496.96979855,  285.93649642,\n",
       "        136.10991685,   43.92375785,    8.20841722,    4.03123559,\n",
       "          3.1121892 ,    2.85929866,    2.62416028,    2.35585184])"
      ]
     },
     "execution_count": 27,
     "metadata": {},
     "output_type": "execute_result"
    }
   ],
   "source": [
    "wpcov_wo.diagonal()"
   ]
  },
  {
   "cell_type": "code",
   "execution_count": 28,
   "metadata": {
    "collapsed": true
   },
   "outputs": [],
   "source": [
    "#-20.5 -21"
   ]
  },
  {
   "cell_type": "code",
   "execution_count": null,
   "metadata": {
    "collapsed": true
   },
   "outputs": [],
   "source": []
  }
 ],
 "metadata": {
  "kernelspec": {
   "display_name": "Python 2",
   "language": "python",
   "name": "python2"
  },
  "language_info": {
   "codemirror_mode": {
    "name": "ipython",
    "version": 2
   },
   "file_extension": ".py",
   "mimetype": "text/x-python",
   "name": "python",
   "nbconvert_exporter": "python",
   "pygments_lexer": "ipython2",
   "version": "2.7.12"
  }
 },
 "nbformat": 4,
 "nbformat_minor": 0
}
