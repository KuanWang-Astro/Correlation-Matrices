{
 "cells": [
  {
   "cell_type": "code",
   "execution_count": 1,
   "metadata": {
    "collapsed": true
   },
   "outputs": [],
   "source": [
    "import gc\n",
    "import numpy as np\n",
    "\n",
    "import matplotlib.pyplot as plt\n",
    "%matplotlib inline\n",
    "%config InlineBackend.figure_format='retina'\n",
    "\n",
    "from halotools.sim_manager import CachedHaloCatalog\n",
    "\n",
    "import sys\n",
    "sys.path.append('../Compute statistics new/')\n",
    "\n",
    "from HOD_models import decorated_hod_model\n",
    "from HOD_models import standard_hod_model\n",
    "\n",
    "from halotools.empirical_models import MockFactory\n",
    "\n",
    "from halotools.mock_observables import return_xyz_formatted_array\n",
    "from halotools.utils import randomly_downsample_data"
   ]
  },
  {
   "cell_type": "code",
   "execution_count": 2,
   "metadata": {
    "collapsed": false
   },
   "outputs": [],
   "source": [
    "def apply_periodic(points,period):\n",
    "    x,y,z = points.T\n",
    "    length = points.shape[0]\n",
    "    extended_box = np.zeros((length*27,3))\n",
    "    xp = np.array((2,5,8,11,14,17,20,23,26))\n",
    "    xo = xp-1\n",
    "    xm = xp-2\n",
    "    yp = np.array((6,7,8,15,16,17,24,25,26))\n",
    "    yo = yp-3\n",
    "    ym = yp-6\n",
    "    zp = np.array((18,19,20,21,22,23,24,25,26))\n",
    "    zo = zp-9\n",
    "    zm = zp-18\n",
    "    for i in xp:\n",
    "        extended_box[i*length:(i+1)*length,0] = x+period\n",
    "    for i in xo:\n",
    "        extended_box[i*length:(i+1)*length,0] = x\n",
    "    for i in xm:\n",
    "        extended_box[i*length:(i+1)*length,0] = x-period\n",
    "    for i in yp:\n",
    "        extended_box[i*length:(i+1)*length,1] = y+period\n",
    "    for i in yo:\n",
    "        extended_box[i*length:(i+1)*length,1] = y\n",
    "    for i in ym:\n",
    "        extended_box[i*length:(i+1)*length,1] = y-period\n",
    "    for i in zp:\n",
    "        extended_box[i*length:(i+1)*length,2] = z+period\n",
    "    for i in zo:\n",
    "        extended_box[i*length:(i+1)*length,2] = z\n",
    "    for i in zm:\n",
    "        extended_box[i*length:(i+1)*length,2] = z-period\n",
    "    return extended_box"
   ]
  },
  {
   "cell_type": "code",
   "execution_count": 3,
   "metadata": {
    "collapsed": false
   },
   "outputs": [
    {
     "name": "stderr",
     "output_type": "stream",
     "text": [
      "/home/kuw8/anaconda2/lib/python2.7/site-packages/halotools/empirical_models/factories/hod_model_factory.py:888: UserWarning: The composite model received multiple component models \n",
      "with a new_haloprop_func_dict that use the halo_nfw_conc_percentile key. \n",
      "Ignoring the one that appears in the occupation component for satellites galaxies\n",
      "  warn(msg % (example_repeated_element, feature_name, gal_type))\n"
     ]
    }
   ],
   "source": [
    "global model_w\n",
    "model_w = decorated_hod_model()\n",
    "global model_wo\n",
    "model_wo = standard_hod_model()\n",
    "Lbox = 250\n",
    "simname = 'bolplanck'\n",
    "version = 'halotools_v0p4'\n",
    "halofinder = 'rockstar'\n",
    "redshift = 0\n",
    "param_names = ('alpha','logM1','sigma_logM','logM0','logMmin',\\\n",
    "               'mean_occupation_centrals_assembias_param1','mean_occupation_satellites_assembias_param1')\n",
    "r_vpf = np.logspace(0, 1.25, 20)\n",
    "num_spheres = int(1e6)\n",
    "infile_w = '../ABMCMCfiles/corr1_wp21.0.abfit.covar.chain'\n",
    "infile_wo = '../ABMCMCfiles/corr1_wp21.0.covar.chain'\n",
    "nparams = 10"
   ]
  },
  {
   "cell_type": "code",
   "execution_count": 4,
   "metadata": {
    "collapsed": true
   },
   "outputs": [],
   "source": [
    "halocat = CachedHaloCatalog(simname = simname, version_name = version,redshift = redshift, \\\n",
    "                                halo_finder = halofinder)"
   ]
  },
  {
   "cell_type": "code",
   "execution_count": 5,
   "metadata": {
    "collapsed": true
   },
   "outputs": [],
   "source": [
    "params_w = np.loadtxt(infile_w, usecols=range(7))\n",
    "params_wo = np.loadtxt(infile_wo, usecols=range(5))"
   ]
  },
  {
   "cell_type": "code",
   "execution_count": 6,
   "metadata": {
    "collapsed": true
   },
   "outputs": [],
   "source": [
    "param_w = params_w[np.random.choice(len(params_w), nparams)]\n",
    "param_wo = params_wo[np.random.choice(len(params_wo), nparams)]"
   ]
  },
  {
   "cell_type": "code",
   "execution_count": 7,
   "metadata": {
    "collapsed": true
   },
   "outputs": [],
   "source": [
    "param = param_w[0]"
   ]
  },
  {
   "cell_type": "code",
   "execution_count": 8,
   "metadata": {
    "collapsed": false
   },
   "outputs": [
    {
     "data": {
      "text/plain": [
       "2123"
      ]
     },
     "execution_count": 8,
     "metadata": {},
     "output_type": "execute_result"
    }
   ],
   "source": [
    "model_w.param_dict.update(dict(zip(param_names, param)))    ##update model.param_dict with pairs (param_names:params)\n",
    "\n",
    "try:\n",
    "    model_w.mock.populate()\n",
    "except:\n",
    "    model_w.populate_mock(halocat)\n",
    "    \n",
    "gc.collect()"
   ]
  },
  {
   "cell_type": "code",
   "execution_count": 9,
   "metadata": {
    "collapsed": false
   },
   "outputs": [],
   "source": [
    "pos_gals_d = return_xyz_formatted_array(*(model_w.mock.galaxy_table[ax] for ax in 'xyz'), \\\n",
    "            velocity=model_w.mock.galaxy_table['vz'], velocity_distortion_dimension='z',\\\n",
    "                                          period=Lbox)             ##redshift space distorted\n",
    "pos_gals_d = np.array(pos_gals_d,dtype=float)\n",
    "pos_gals_d = apply_periodic(pos_gals_d,Lbox)"
   ]
  },
  {
   "cell_type": "code",
   "execution_count": 10,
   "metadata": {
    "collapsed": true
   },
   "outputs": [],
   "source": [
    "from scipy import spatial"
   ]
  },
  {
   "cell_type": "code",
   "execution_count": 11,
   "metadata": {
    "collapsed": true
   },
   "outputs": [],
   "source": [
    "centers = np.random.rand(num_spheres,3)*250."
   ]
  },
  {
   "cell_type": "code",
   "execution_count": 12,
   "metadata": {
    "collapsed": true
   },
   "outputs": [],
   "source": [
    "Nsidejk = 5"
   ]
  },
  {
   "cell_type": "code",
   "execution_count": 13,
   "metadata": {
    "collapsed": false
   },
   "outputs": [],
   "source": [
    "jk_tag = np.zeros((num_spheres,2))\n",
    "jk_tag[:,0] = np.floor(centers[:,0]/50)\n",
    "jk_tag[:,1] = np.floor(centers[:,1]/50)"
   ]
  },
  {
   "cell_type": "code",
   "execution_count": 14,
   "metadata": {
    "collapsed": true
   },
   "outputs": [],
   "source": [
    "tree = spatial.cKDTree(pos_gals_d)"
   ]
  },
  {
   "cell_type": "code",
   "execution_count": 15,
   "metadata": {
    "collapsed": false
   },
   "outputs": [],
   "source": [
    "voidsize = tree.query(centers)[0]"
   ]
  },
  {
   "cell_type": "code",
   "execution_count": 16,
   "metadata": {
    "collapsed": true
   },
   "outputs": [],
   "source": [
    "def vpf(r,voidsize):\n",
    "    return np.sum(voidsize>r)/float(voidsize.size)"
   ]
  },
  {
   "cell_type": "code",
   "execution_count": 17,
   "metadata": {
    "collapsed": true
   },
   "outputs": [],
   "source": [
    "vpf_all = r_vpf*0."
   ]
  },
  {
   "cell_type": "code",
   "execution_count": 18,
   "metadata": {
    "collapsed": true
   },
   "outputs": [],
   "source": [
    "for i,r in enumerate(r_vpf):\n",
    "    vpf_all[i] = vpf(r,voidsize)"
   ]
  },
  {
   "cell_type": "code",
   "execution_count": 19,
   "metadata": {
    "collapsed": false
   },
   "outputs": [
    {
     "data": {
      "text/plain": [
       "[]"
      ]
     },
     "execution_count": 19,
     "metadata": {},
     "output_type": "execute_result"
    },
    {
     "data": {
      "image/png": "[encoded data removed]",
      "text/plain": [
       "<matplotlib.figure.Figure at 0x7f4d7c5b6290>"
      ]
     },
     "metadata": {
      "image/png": {
       "height": 251,
       "width": 381
      }
     },
     "output_type": "display_data"
    }
   ],
   "source": [
    "plt.plot(r_vpf,vpf_all,'.-')\n",
    "plt.loglog()"
   ]
  },
  {
   "cell_type": "code",
   "execution_count": 20,
   "metadata": {
    "collapsed": true
   },
   "outputs": [],
   "source": [
    "vpf_jk = np.zeros((Nsidejk**2,len(r_vpf)))"
   ]
  },
  {
   "cell_type": "code",
   "execution_count": 23,
   "metadata": {
    "collapsed": false
   },
   "outputs": [],
   "source": [
    "for i in range(Nsidejk):\n",
    "    for j in range(Nsidejk):\n",
    "        mask = np.logical_and(jk_tag[:,0]==i,jk_tag[:,1]==j)\n",
    "        for k,r in enumerate(r_vpf):\n",
    "            vpf_jk[i*Nsidejk+j,k] = vpf(r,voidsize[~mask])"
   ]
  },
  {
   "cell_type": "code",
   "execution_count": 24,
   "metadata": {
    "collapsed": false
   },
   "outputs": [
    {
     "data": {
      "text/plain": [
       "[]"
      ]
     },
     "execution_count": 24,
     "metadata": {},
     "output_type": "execute_result"
    },
    {
     "data": {
      "image/png": "[encoded data removed]",
      "text/plain": [
       "<matplotlib.figure.Figure at 0x7f4cbd94fa10>"
      ]
     },
     "metadata": {
      "image/png": {
       "height": 251,
       "width": 381
      }
     },
     "output_type": "display_data"
    }
   ],
   "source": [
    "for v in vpf_jk:\n",
    "    plt.plot(r_vpf,v,'.-')\n",
    "plt.loglog()"
   ]
  },
  {
   "cell_type": "code",
   "execution_count": 28,
   "metadata": {
    "collapsed": false
   },
   "outputs": [
    {
     "data": {
      "text/plain": [
       "<matplotlib.colorbar.Colorbar at 0x7f4cbdbf3e10>"
      ]
     },
     "execution_count": 28,
     "metadata": {},
     "output_type": "execute_result"
    },
    {
     "data": {
      "image/png": "[encoded data removed]",
      "text/plain": [
       "<matplotlib.figure.Figure at 0x7f4cbd627b90>"
      ]
     },
     "metadata": {
      "image/png": {
       "height": 252,
       "width": 326
      }
     },
     "output_type": "display_data"
    }
   ],
   "source": [
    "plt.imshow(np.corrcoef(vpf_jk.T),cmap='bwr',vmax=1,vmin=-1,interpolation='None')\n",
    "plt.colorbar()   ##????"
   ]
  },
  {
   "cell_type": "code",
   "execution_count": null,
   "metadata": {
    "collapsed": true
   },
   "outputs": [],
   "source": []
  }
 ],
 "metadata": {
  "kernelspec": {
   "display_name": "Python 2",
   "language": "python",
   "name": "python2"
  },
  "language_info": {
   "codemirror_mode": {
    "name": "ipython",
    "version": 2
   },
   "file_extension": ".py",
   "mimetype": "text/x-python",
   "name": "python",
   "nbconvert_exporter": "python",
   "pygments_lexer": "ipython2",
   "version": "2.7.12"
  }
 },
 "nbformat": 4,
 "nbformat_minor": 0
}
