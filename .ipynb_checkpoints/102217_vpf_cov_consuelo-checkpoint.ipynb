{
 "cells": [
  {
   "cell_type": "code",
   "execution_count": 1,
   "metadata": {
    "collapsed": true
   },
   "outputs": [],
   "source": [
    "import numpy as np\n",
    "import matplotlib.pyplot as plt\n",
    "np.set_printoptions(threshold=np.inf)\n",
    "%matplotlib inline\n",
    "%config InlineBackend.figure_format='retina'"
   ]
  },
  {
   "cell_type": "code",
   "execution_count": 2,
   "metadata": {
    "collapsed": false
   },
   "outputs": [],
   "source": [
    "consuelo20_w = np.load('../Compute statistics new/101917_vpf_consuelo_w.npz')\n",
    "consuelo20_wo = np.load('../Compute statistics new/101917_vpf_consuelo_wo.npz')"
   ]
  },
  {
   "cell_type": "code",
   "execution_count": 3,
   "metadata": {
    "collapsed": false
   },
   "outputs": [
    {
     "data": {
      "text/plain": [
       "['vpf', 'ngals', 'param']"
      ]
     },
     "execution_count": 3,
     "metadata": {},
     "output_type": "execute_result"
    }
   ],
   "source": [
    "consuelo20_w.files"
   ]
  },
  {
   "cell_type": "code",
   "execution_count": 4,
   "metadata": {
    "collapsed": false
   },
   "outputs": [],
   "source": [
    "vpf_samep = []\n",
    "\n",
    "for i in range(200):\n",
    "    vpf_samep.append(consuelo20_w['vpf'][i::200])"
   ]
  },
  {
   "cell_type": "code",
   "execution_count": 6,
   "metadata": {
    "collapsed": false
   },
   "outputs": [],
   "source": [
    "vpf_corr = np.zeros((200,20,20))\n",
    "for i in range(200):\n",
    "    vpf_corr[i] = np.corrcoef(vpf_samep[i].T)"
   ]
  },
  {
   "cell_type": "code",
   "execution_count": 7,
   "metadata": {
    "collapsed": false
   },
   "outputs": [
    {
     "data": {
      "text/plain": [
       "<matplotlib.colorbar.Colorbar at 0x7f235e3262d0>"
      ]
     },
     "execution_count": 7,
     "metadata": {},
     "output_type": "execute_result"
    },
    {
     "data": {
      "image/png": "[encoded data removed]",
      "text/plain": [
       "<matplotlib.figure.Figure at 0x7f23604bed10>"
      ]
     },
     "metadata": {
      "image/png": {
       "height": 252,
       "width": 326
      }
     },
     "output_type": "display_data"
    }
   ],
   "source": [
    "plt.imshow(np.mean(vpf_corr,axis=0),cmap='bwr',vmax=1,vmin=-1,interpolation='None')\n",
    "plt.colorbar()"
   ]
  },
  {
   "cell_type": "markdown",
   "metadata": {
    "collapsed": true
   },
   "source": [
    "### Cosmic correlation"
   ]
  },
  {
   "cell_type": "code",
   "execution_count": 8,
   "metadata": {
    "collapsed": true
   },
   "outputs": [],
   "source": [
    "vpf_cov = np.zeros((200,20,20))\n",
    "for i in range(200):\n",
    "    vpf_cov[i] = np.cov(vpf_samep[i].T)"
   ]
  },
  {
   "cell_type": "code",
   "execution_count": 9,
   "metadata": {
    "collapsed": false
   },
   "outputs": [
    {
     "data": {
      "text/plain": [
       "array([[  3.47222836e-08,   3.50601930e-08,   3.52831959e-08,\n",
       "          3.43590614e-08,   3.37002281e-08,   3.32177953e-08,\n",
       "          3.32707851e-08,   3.35612690e-08,   3.31683246e-08,\n",
       "          3.45680161e-08,   3.36236740e-08,   3.39507295e-08,\n",
       "          3.12177749e-08,   2.91792222e-08,   2.75897398e-08,\n",
       "          1.76658582e-08,   1.22573860e-08,   7.33626901e-09,\n",
       "          2.94570175e-09,   2.88764620e-10],\n",
       "       [  3.50601930e-08,   5.49475205e-08,   5.47215556e-08,\n",
       "          5.44381067e-08,   5.30235351e-08,   5.32195789e-08,\n",
       "          5.27806784e-08,   5.30794415e-08,   5.30193860e-08,\n",
       "          5.50394751e-08,   5.22011886e-08,   4.94659518e-08,\n",
       "          4.56047310e-08,   4.17384678e-08,   3.78700702e-08,\n",
       "          2.74256623e-08,   1.87858187e-08,   1.30071155e-08,\n",
       "          5.36008187e-09,   2.10913743e-10],\n",
       "       [  3.52831959e-08,   5.47215556e-08,   8.54025322e-08,\n",
       "          8.52210175e-08,   8.29901623e-08,   8.14594912e-08,\n",
       "          8.10535190e-08,   8.19123450e-08,   8.20093406e-08,\n",
       "          8.18260775e-08,   7.84016740e-08,   7.55621681e-08,\n",
       "          6.74303860e-08,   6.52354825e-08,   5.34551944e-08,\n",
       "          3.67726886e-08,   2.30694313e-08,   1.33487734e-08,\n",
       "          4.38320906e-09,  -3.40023392e-10],\n",
       "       [  3.43590614e-08,   5.44381067e-08,   8.52210175e-08,\n",
       "          1.32822278e-07,   1.29899711e-07,   1.28951528e-07,\n",
       "          1.27973769e-07,   1.32555993e-07,   1.29342336e-07,\n",
       "          1.31442835e-07,   1.28017367e-07,   1.24286923e-07,\n",
       "          1.11303637e-07,   1.01810811e-07,   8.57638553e-08,\n",
       "          6.33441857e-08,   4.05633670e-08,   2.54713889e-08,\n",
       "          1.22159927e-08,   2.77957164e-09],\n",
       "       [  3.37002281e-08,   5.30235351e-08,   8.29901623e-08,\n",
       "          1.29899711e-07,   1.94121825e-07,   1.94640181e-07,\n",
       "          1.95532889e-07,   1.96180887e-07,   1.92347430e-07,\n",
       "          1.88413851e-07,   1.88284770e-07,   1.86575968e-07,\n",
       "          1.67514661e-07,   1.45851363e-07,   1.29313819e-07,\n",
       "          9.39010585e-08,   6.27642281e-08,   4.10080292e-08,\n",
       "          2.10309898e-08,   7.09247222e-09],\n",
       "       [  3.32177953e-08,   5.32195789e-08,   8.14594912e-08,\n",
       "          1.28951528e-07,   1.94640181e-07,   2.98457830e-07,\n",
       "          2.97877121e-07,   2.96325613e-07,   2.91480067e-07,\n",
       "          2.85579950e-07,   2.89036608e-07,   2.75385395e-07,\n",
       "          2.44965368e-07,   2.05952598e-07,   1.80099640e-07,\n",
       "          1.29764110e-07,   8.99094971e-08,   6.04892310e-08,\n",
       "          2.79147018e-08,   8.97717251e-09],\n",
       "       [  3.32707851e-08,   5.27806784e-08,   8.10535190e-08,\n",
       "          1.27973769e-07,   1.95532889e-07,   2.97877121e-07,\n",
       "          4.40317477e-07,   4.36604405e-07,   4.25253137e-07,\n",
       "          4.13997694e-07,   4.06422560e-07,   3.84245152e-07,\n",
       "          3.45074915e-07,   3.01888839e-07,   2.59829440e-07,\n",
       "          1.94448981e-07,   1.34874886e-07,   8.84107281e-08,\n",
       "          4.39117149e-08,   1.21522588e-08],\n",
       "       [  3.35612690e-08,   5.30794415e-08,   8.19123450e-08,\n",
       "          1.32555993e-07,   1.96180887e-07,   2.96325613e-07,\n",
       "          4.36604405e-07,   6.46350971e-07,   6.34048890e-07,\n",
       "          6.17406113e-07,   5.97768327e-07,   5.62044744e-07,\n",
       "          5.05150148e-07,   4.49479170e-07,   3.78459649e-07,\n",
       "          2.80517509e-07,   1.91396162e-07,   1.08688566e-07,\n",
       "          5.37308947e-08,   1.26252105e-08],\n",
       "       [  3.31683246e-08,   5.30193860e-08,   8.20093406e-08,\n",
       "          1.29342336e-07,   1.92347430e-07,   2.91480067e-07,\n",
       "          4.25253137e-07,   6.34048890e-07,   9.28903304e-07,\n",
       "          9.11249693e-07,   8.85012860e-07,   8.23164934e-07,\n",
       "          7.51199368e-07,   6.54824304e-07,   5.60821531e-07,\n",
       "          4.17120708e-07,   2.78210703e-07,   1.63866658e-07,\n",
       "          7.95042909e-08,   2.28452909e-08],\n",
       "       [  3.45680161e-08,   5.50394751e-08,   8.18260775e-08,\n",
       "          1.31442835e-07,   1.88413851e-07,   2.85579950e-07,\n",
       "          4.13997694e-07,   6.17406113e-07,   9.11249693e-07,\n",
       "          1.31762142e-06,   1.27838163e-06,   1.20724224e-06,\n",
       "          1.12141783e-06,   1.00461587e-06,   8.46922518e-07,\n",
       "          6.26501516e-07,   4.19036933e-07,   2.43051099e-07,\n",
       "          1.13646769e-07,   3.25416696e-08],\n",
       "       [  3.36236740e-08,   5.22011886e-08,   7.84016740e-08,\n",
       "          1.28017367e-07,   1.88284770e-07,   2.89036608e-07,\n",
       "          4.06422560e-07,   5.97768327e-07,   8.85012860e-07,\n",
       "          1.27838163e-06,   1.80534946e-06,   1.69845468e-06,\n",
       "          1.59097669e-06,   1.44004688e-06,   1.20174091e-06,\n",
       "          9.16690858e-07,   6.27394848e-07,   3.55145855e-07,\n",
       "          1.66251849e-07,   5.39917822e-08],\n",
       "       [  3.39507295e-08,   4.94659518e-08,   7.55621681e-08,\n",
       "          1.24286923e-07,   1.86575968e-07,   2.75385395e-07,\n",
       "          3.84245152e-07,   5.62044744e-07,   8.23164934e-07,\n",
       "          1.20724224e-06,   1.69845468e-06,   2.33100825e-06,\n",
       "          2.20549790e-06,   2.01437938e-06,   1.69819051e-06,\n",
       "          1.29559860e-06,   9.05471107e-07,   5.29843651e-07,\n",
       "          2.48316174e-07,   7.50189722e-08],\n",
       "       [  3.12177749e-08,   4.56047310e-08,   6.74303860e-08,\n",
       "          1.11303637e-07,   1.67514661e-07,   2.44965368e-07,\n",
       "          3.45074915e-07,   5.05150148e-07,   7.51199368e-07,\n",
       "          1.12141783e-06,   1.59097669e-06,   2.20549790e-06,\n",
       "          3.01060180e-06,   2.74240262e-06,   2.31841421e-06,\n",
       "          1.81391432e-06,   1.29324324e-06,   7.34170683e-07,\n",
       "          3.40663501e-07,   1.04950643e-07],\n",
       "       [  2.91792222e-08,   4.17384678e-08,   6.52354825e-08,\n",
       "          1.01810811e-07,   1.45851363e-07,   2.05952598e-07,\n",
       "          3.01888839e-07,   4.49479170e-07,   6.54824304e-07,\n",
       "          1.00461587e-06,   1.44004688e-06,   2.01437938e-06,\n",
       "          2.74240262e-06,   3.57177169e-06,   3.03785930e-06,\n",
       "          2.36401222e-06,   1.70436614e-06,   9.64872654e-07,\n",
       "          4.44505513e-07,   1.39653787e-07],\n",
       "       [  2.75897398e-08,   3.78700702e-08,   5.34551944e-08,\n",
       "          8.57638553e-08,   1.29313819e-07,   1.80099640e-07,\n",
       "          2.59829440e-07,   3.78459649e-07,   5.60821531e-07,\n",
       "          8.46922518e-07,   1.20174091e-06,   1.69819051e-06,\n",
       "          2.31841421e-06,   3.03785930e-06,   3.66475062e-06,\n",
       "          2.89612628e-06,   2.08746331e-06,   1.19702394e-06,\n",
       "          5.36967713e-07,   1.62805788e-07],\n",
       "       [  1.76658582e-08,   2.74256623e-08,   3.67726886e-08,\n",
       "          6.33441857e-08,   9.39010585e-08,   1.29764110e-07,\n",
       "          1.94448981e-07,   2.80517509e-07,   4.17120708e-07,\n",
       "          6.26501516e-07,   9.16690858e-07,   1.29559860e-06,\n",
       "          1.81391432e-06,   2.36401222e-06,   2.89612628e-06,\n",
       "          3.31755201e-06,   2.44208200e-06,   1.46024156e-06,\n",
       "          6.57670358e-07,   2.01789956e-07],\n",
       "       [  1.22573860e-08,   1.87858187e-08,   2.30694313e-08,\n",
       "          4.05633670e-08,   6.27642281e-08,   8.99094971e-08,\n",
       "          1.34874886e-07,   1.91396162e-07,   2.78210703e-07,\n",
       "          4.19036933e-07,   6.27394848e-07,   9.05471107e-07,\n",
       "          1.29324324e-06,   1.70436614e-06,   2.08746331e-06,\n",
       "          2.44208200e-06,   2.64476576e-06,   1.63309086e-06,\n",
       "          7.72549728e-07,   2.50340772e-07],\n",
       "       [  7.33626901e-09,   1.30071155e-08,   1.33487734e-08,\n",
       "          2.54713889e-08,   4.10080292e-08,   6.04892310e-08,\n",
       "          8.84107281e-08,   1.08688566e-07,   1.63866658e-07,\n",
       "          2.43051099e-07,   3.55145855e-07,   5.29843651e-07,\n",
       "          7.34170683e-07,   9.64872654e-07,   1.19702394e-06,\n",
       "          1.46024156e-06,   1.63309086e-06,   1.51301609e-06,\n",
       "          7.42481471e-07,   2.49020987e-07],\n",
       "       [  2.94570175e-09,   5.36008187e-09,   4.38320906e-09,\n",
       "          1.22159927e-08,   2.10309898e-08,   2.79147018e-08,\n",
       "          4.39117149e-08,   5.37308947e-08,   7.95042909e-08,\n",
       "          1.13646769e-07,   1.66251849e-07,   2.48316174e-07,\n",
       "          3.40663501e-07,   4.44505513e-07,   5.36967713e-07,\n",
       "          6.57670358e-07,   7.72549728e-07,   7.42481471e-07,\n",
       "          6.01869202e-07,   2.19075738e-07],\n",
       "       [  2.88764620e-10,   2.10913743e-10,  -3.40023392e-10,\n",
       "          2.77957164e-09,   7.09247222e-09,   8.97717251e-09,\n",
       "          1.21522588e-08,   1.26252105e-08,   2.28452909e-08,\n",
       "          3.25416696e-08,   5.39917822e-08,   7.50189722e-08,\n",
       "          1.04950643e-07,   1.39653787e-07,   1.62805788e-07,\n",
       "          2.01789956e-07,   2.50340772e-07,   2.49020987e-07,\n",
       "          2.19075738e-07,   1.51024886e-07]])"
      ]
     },
     "execution_count": 9,
     "metadata": {},
     "output_type": "execute_result"
    }
   ],
   "source": [
    "np.mean(vpf_cov,axis=0)"
   ]
  },
  {
   "cell_type": "code",
   "execution_count": null,
   "metadata": {
    "collapsed": true
   },
   "outputs": [],
   "source": []
  }
 ],
 "metadata": {
  "kernelspec": {
   "display_name": "Python 2",
   "language": "python",
   "name": "python2"
  },
  "language_info": {
   "codemirror_mode": {
    "name": "ipython",
    "version": 2
   },
   "file_extension": ".py",
   "mimetype": "text/x-python",
   "name": "python",
   "nbconvert_exporter": "python",
   "pygments_lexer": "ipython2",
   "version": "2.7.12"
  }
 },
 "nbformat": 4,
 "nbformat_minor": 0
}
