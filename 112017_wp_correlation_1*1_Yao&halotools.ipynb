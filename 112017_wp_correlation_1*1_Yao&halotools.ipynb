{
 "cells": [
  {
   "cell_type": "code",
   "execution_count": 1,
   "metadata": {
    "collapsed": true
   },
   "outputs": [],
   "source": [
    "import gc\n",
    "import numpy as np\n",
    "\n",
    "import matplotlib.pyplot as plt\n",
    "%matplotlib inline\n",
    "%config InlineBackend.figure_format='retina'\n",
    "\n",
    "from halotools.sim_manager import CachedHaloCatalog\n",
    "\n",
    "import sys\n",
    "sys.path.append('../Compute statistics new/')\n",
    "\n",
    "from HOD_models import decorated_hod_model\n",
    "from HOD_models import standard_hod_model\n",
    "\n",
    "from halotools.empirical_models import MockFactory\n",
    "\n",
    "from halotools.mock_observables import return_xyz_formatted_array\n",
    "from halotools.utils import randomly_downsample_data\n",
    "from halotools.mock_observables import wp_jackknife\n",
    "\n",
    "from helpers.CorrelationFunction import projected_correlation"
   ]
  },
  {
   "cell_type": "code",
   "execution_count": 2,
   "metadata": {
    "collapsed": true
   },
   "outputs": [],
   "source": [
    "simname_list = ['chinchilla','bolshoi','chinchilla','bolplanck','chinchilla',\\\n",
    "                'diemerL0250','consuelo','diemerL0500','chinchilla']\n",
    "version_list = ['250-2560','halotools_v0p4','250-2048','halotools_v0p4','250-1024',\\\n",
    "               'antonio','halotools_v0p4','antonio','250-512']\n",
    "redshift_list = [0 for i in range(9)]\n",
    "halofinder_list = ['rockstar' for i in range(9)]\n",
    "Lbox_list = [250,250,250,250,250,250,420,500,250]\n",
    "Nsidejk_list = [10,10,10,10,10,10,10,17,20,10]"
   ]
  },
  {
   "cell_type": "code",
   "execution_count": 3,
   "metadata": {
    "collapsed": true
   },
   "outputs": [],
   "source": [
    "sim_list = zip(simname_list,version_list,redshift_list,halofinder_list,Lbox_list,Nsidejk_list)"
   ]
  },
  {
   "cell_type": "code",
   "execution_count": 4,
   "metadata": {
    "collapsed": false
   },
   "outputs": [],
   "source": [
    "param_names = ('alpha','logM1','sigma_logM','logM0','logMmin',\\\n",
    "               'mean_occupation_centrals_assembias_param1','mean_occupation_satellites_assembias_param1')"
   ]
  },
  {
   "cell_type": "code",
   "execution_count": 5,
   "metadata": {
    "collapsed": true
   },
   "outputs": [],
   "source": [
    "model_w = decorated_hod_model()\n",
    "model_wo = standard_hod_model()"
   ]
  },
  {
   "cell_type": "code",
   "execution_count": 6,
   "metadata": {
    "collapsed": true
   },
   "outputs": [],
   "source": [
    "##median values\n",
    "p_w_20p0 = np.array((1.02654941214,13.1879106954,0.8781897069,12.1031391855,12.2692942798,0.91596941012,0.0258608345476))\n",
    "p_wo_20p0 = np.array((1.14385007593,13.2858403826,0.348464903173,11.3075027005,11.9718570282))\n",
    "p_w_20p5 = np.array((1.1385115,13.57578547,0.48679456,11.57262142,12.35790058,0.82680138,0.07528584))\n",
    "p_wo_20p5 = np.array((1.19652223,13.59168639,0.18536064,11.20133648,12.25470422))\n",
    "p_w_21p0 = np.array((1.17616081,13.95019057,0.49658948,12.65226286,12.78575124,0.26511832,0.08899419))\n",
    "p_wo_21p0 = np.array((1.33738418,13.98811392,0.55950074,11.95796534,12.82356125))"
   ]
  },
  {
   "cell_type": "code",
   "execution_count": 7,
   "metadata": {
    "collapsed": true
   },
   "outputs": [],
   "source": [
    "rbins1 = np.logspace(-1, 1.5, 13)\n",
    "rbins2 = np.logspace(-1, 1.5, 20)\n",
    "pi_max = 60"
   ]
  },
  {
   "cell_type": "code",
   "execution_count": 8,
   "metadata": {
    "collapsed": true
   },
   "outputs": [],
   "source": [
    "def comb(mw,mwo):\n",
    "    m = np.copy(mw)\n",
    "    dim = m.shape[0]\n",
    "    for i in range(dim):\n",
    "        for j in range(dim):\n",
    "            if i>j:\n",
    "                m[i,j] = mwo[i,j]\n",
    "    return m"
   ]
  },
  {
   "cell_type": "code",
   "execution_count": 11,
   "metadata": {
    "collapsed": false
   },
   "outputs": [],
   "source": [
    "def wp_wpcov(simidx,pw,pwo,rbins):\n",
    "    halocat = CachedHaloCatalog(simname = sim_list[simidx][0], version_name = sim_list[simidx][1],\\\n",
    "                                redshift = sim_list[simidx][2], halo_finder = sim_list[simidx][3])\n",
    "    model_w.param_dict.update(dict(zip(param_names, pw)))\n",
    "    model_w.populate_mock(halocat)\n",
    "    model_wo.param_dict.update(dict(zip(param_names, pwo)))\n",
    "    model_wo.populate_mock(halocat)\n",
    "    gc.collect()\n",
    "    \n",
    "    pos_gals_w = return_xyz_formatted_array(*(model_w.mock.galaxy_table[ax] for ax in 'xyz'), \\\n",
    "            velocity=model_w.mock.galaxy_table['vz'], velocity_distortion_dimension='z',\\\n",
    "                                          period=sim_list[simidx][4])\n",
    "    pos_gals_w = np.array(pos_gals_w,dtype=float)\n",
    "    pos_gals_wo = return_xyz_formatted_array(*(model_wo.mock.galaxy_table[ax] for ax in 'xyz'), \\\n",
    "            velocity=model_wo.mock.galaxy_table['vz'], velocity_distortion_dimension='z',\\\n",
    "                                          period=sim_list[simidx][4])\n",
    "    pos_gals_wo = np.array(pos_gals_wo,dtype=float)\n",
    "    \n",
    "    Nran = int(1e5*(sim_list[simidx][4]/250.)**3)\n",
    "    xran = np.random.uniform(0, sim_list[simidx][4], Nran)\n",
    "    yran = np.random.uniform(0, sim_list[simidx][4], Nran)\n",
    "    zran = np.random.uniform(0, sim_list[simidx][4], Nran)\n",
    "    randoms = np.vstack((xran,yran,zran)).T\n",
    "    \n",
    "    wp_w_halotools,wpcov_w_halotools = wp_jackknife(pos_gals_w,randoms,rbins,pi_max, Nsub=[sim_list[simidx][5],sim_list[simidx][5],1])\n",
    "    print wp_w_halotools,wpcov_w_halotools\n",
    "    wp_wo_halotools,wpcov_wo_halotools = wp_jackknife(pos_gals_wo,randoms,rbins,pi_max, Nsub=[sim_list[simidx][5],sim_list[simidx][5],1])\n",
    "    print wp_wo_halotools,wpcov_wo_halotools\n",
    "    \n",
    "    wp_w_yao,wpcov_w_yao = projected_correlation(pos_gals_w, rbins, pi_max, sim_list[simidx][4], jackknife_nside=sim_list[simidx][5])\n",
    "    print wp_w_yao,wpcov_w_yao\n",
    "    wp_wo_yao,wpcov_wo_yao = projected_correlation(pos_gals_wo, rbins, pi_max, sim_list[simidx][4], jackknife_nside=sim_list[simidx][5])\n",
    "    print wp_wo_yao,wpcov_wo_yao\n",
    "    \n",
    "    return wp_w_yao, wpcov_w_yao, wp_wo_yao, wpcov_wo_yao, wp_w_halotools, wpcov_w_halotools, wp_wo_halotools, wpcov_wo_halotools"
   ]
  },
  {
   "cell_type": "code",
   "execution_count": 14,
   "metadata": {
    "collapsed": false
   },
   "outputs": [
    {
     "name": "stdout",
     "output_type": "stream",
     "text": [
      "\n"
     ]
    }
   ],
   "source": [
    "result = []"
   ]
  },
  {
   "cell_type": "code",
   "execution_count": null,
   "metadata": {
    "collapsed": false
   },
   "outputs": [],
   "source": [
    "for i in range(9):\n",
    "    for pw,pwo in zip((p_w_20p0,p_w_20p5,p_w_21p0),(p_wo_20p0,p_wo_20p5,p_wo_21p0)):\n",
    "        result.append(wp_wpcov(i,pw,pwo,rbins1))\n",
    "        print i,pw,pwo"
   ]
  },
  {
   "cell_type": "code",
   "execution_count": null,
   "metadata": {
    "collapsed": true
   },
   "outputs": [],
   "source": []
  }
 ],
 "metadata": {
  "kernelspec": {
   "display_name": "Python 2",
   "language": "python",
   "name": "python2"
  },
  "language_info": {
   "codemirror_mode": {
    "name": "ipython",
    "version": 2
   },
   "file_extension": ".py",
   "mimetype": "text/x-python",
   "name": "python",
   "nbconvert_exporter": "python",
   "pygments_lexer": "ipython2",
   "version": "2.7.12"
  }
 },
 "nbformat": 4,
 "nbformat_minor": 0
}
