{
 "cells": [
  {
   "cell_type": "code",
   "execution_count": 1,
   "metadata": {
    "collapsed": true
   },
   "outputs": [],
   "source": [
    "import numpy as np\n",
    "import matplotlib.pyplot as plt\n",
    "np.set_printoptions(threshold=np.inf)\n",
    "%matplotlib inline\n",
    "%config InlineBackend.figure_format='retina'"
   ]
  },
  {
   "cell_type": "code",
   "execution_count": 3,
   "metadata": {
    "collapsed": true
   },
   "outputs": [],
   "source": [
    "from cosmic_correlation_matrix import correlation as coscorr"
   ]
  },
  {
   "cell_type": "code",
   "execution_count": 6,
   "metadata": {
    "collapsed": true
   },
   "outputs": [],
   "source": [
    "chinchilla2560 = np.load('chinchilla2560_am.npz')\n",
    "bolshoi = np.load('bolshoi_am.npz')\n",
    "chinchilla2048 = np.load('chinchilla2048_am.npz')\n",
    "bolplanck = np.load('bolplanck_am.npz')\n",
    "chinchilla1024 = np.load('chinchilla1024_am.npz')\n",
    "diemer250 = np.load('diemer250_am.npz')\n",
    "consuelo = np.load('consuelo_am.npz')\n",
    "diemer500 = np.load('diemer500_am.npz')\n",
    "chinchilla512 = np.load('chinchilla512_am.npz')"
   ]
  },
  {
   "cell_type": "code",
   "execution_count": 5,
   "metadata": {
    "collapsed": false
   },
   "outputs": [
    {
     "data": {
      "text/plain": [
       "['wpcov', 'ngals', 'param', 'vpf', 'wprp', 'Pcic', 'wp_y']"
      ]
     },
     "execution_count": 5,
     "metadata": {},
     "output_type": "execute_result"
    }
   ],
   "source": [
    "bolshoi.files"
   ]
  },
  {
   "cell_type": "code",
   "execution_count": 7,
   "metadata": {
    "collapsed": true
   },
   "outputs": [],
   "source": [
    "title_list = ['chinchilla2560','bolshoi','chinchilla1024','bolplanck',\\\n",
    "              'chinchilla1024','diemer250','consuelo','diemer500','chinchilla512']"
   ]
  },
  {
   "cell_type": "code",
   "execution_count": 8,
   "metadata": {
    "collapsed": false
   },
   "outputs": [
    {
     "data": {
      "text/plain": [
       "array([  0.11687839,   0.15633276,   0.20910566,   0.27969299,\n",
       "         0.37410832,   0.50039523,   0.66931252,   0.89525084,\n",
       "         1.19745866,   1.60168208,   2.1423583 ,   2.86554937,\n",
       "         3.83286643,   5.12671854,   6.85733338,   9.172148  ,\n",
       "        12.26836937,  16.40977524,  21.94918617])"
      ]
     },
     "execution_count": 8,
     "metadata": {},
     "output_type": "execute_result"
    }
   ],
   "source": [
    "r_wp = np.logspace(-1,1.4,20)\n",
    "r_wp = (r_wp[1:]+r_wp[:-1])/2.\n",
    "r_wp"
   ]
  },
  {
   "cell_type": "code",
   "execution_count": 23,
   "metadata": {
    "collapsed": false
   },
   "outputs": [
    {
     "data": {
      "text/plain": [
       "[<matplotlib.lines.Line2D at 0x7f6f86a0e910>]"
      ]
     },
     "execution_count": 23,
     "metadata": {},
     "output_type": "execute_result"
    },
    {
     "data": {
      "image/png": "[encoded data removed]",
      "text/plain": [
       "<matplotlib.figure.Figure at 0x7f6f85e31f50>"
      ]
     },
     "metadata": {
      "image/png": {
       "height": 250,
       "width": 385
      }
     },
     "output_type": "display_data"
    }
   ],
   "source": [
    "plt.plot(r_wp,bolshoi['wprp'][4],'r')\n",
    "plt.plot(r_wp,bolshoi['wp_y'][4],'b')\n",
    "#plt.loglog()"
   ]
  },
  {
   "cell_type": "code",
   "execution_count": 13,
   "metadata": {
    "collapsed": false
   },
   "outputs": [
    {
     "data": {
      "text/plain": [
       "(5, 19)"
      ]
     },
     "execution_count": 13,
     "metadata": {},
     "output_type": "execute_result"
    }
   ],
   "source": [
    "bolshoi['wprp'].shape"
   ]
  },
  {
   "cell_type": "code",
   "execution_count": 14,
   "metadata": {
    "collapsed": false
   },
   "outputs": [
    {
     "data": {
      "text/plain": [
       "array([[  1.02133925e+04,   3.34547363e+03,   3.10834373e+03,\n",
       "          3.84982051e+03,   1.29203235e+03,   1.12024565e+03,\n",
       "          6.36248795e+02,   6.90176620e+02,   3.52532336e+02,\n",
       "          1.22109256e+02,   7.06860082e+01,   1.20670907e+02,\n",
       "          1.35591035e+02,   8.94580269e+01,   8.95348400e+01,\n",
       "          5.75231154e+01,   3.86857844e+01,   2.85613821e+01,\n",
       "          1.91772067e+01],\n",
       "       [  3.17297839e+03,   1.46290829e+03,   1.34087840e+03,\n",
       "          1.00706825e+03,   7.02815624e+02,   3.97396484e+02,\n",
       "          3.55967992e+02,   2.13391308e+02,   1.39129165e+02,\n",
       "          9.84855464e+01,   8.24899197e+01,   8.08324899e+01,\n",
       "          6.92949089e+01,   4.63241256e+01,   4.30299278e+01,\n",
       "          3.30436002e+01,   2.45817819e+01,   1.54291683e+01,\n",
       "          1.07667621e+01],\n",
       "       [  1.13477747e+03,   8.36582078e+02,   6.42452720e+02,\n",
       "          5.29303884e+02,   3.68019370e+02,   2.52842134e+02,\n",
       "          2.03186462e+02,   1.40238680e+02,   1.05444828e+02,\n",
       "          8.62723769e+01,   6.64245706e+01,   5.16956483e+01,\n",
       "          4.59284988e+01,   3.39942430e+01,   2.75258024e+01,\n",
       "          2.18396558e+01,   1.63556680e+01,   1.18209136e+01,\n",
       "          7.49438577e+00],\n",
       "       [  6.98508063e+02,   5.51837620e+02,   4.12810467e+02,\n",
       "          3.39021725e+02,   2.59618247e+02,   1.94614930e+02,\n",
       "          1.49041063e+02,   1.15920600e+02,   8.73632376e+01,\n",
       "          6.71824021e+01,   5.37992094e+01,   4.19560231e+01,\n",
       "          3.57841757e+01,   2.78160636e+01,   2.27591163e+01,\n",
       "          1.75357315e+01,   1.31442830e+01,   9.54310873e+00,\n",
       "          6.38105584e+00],\n",
       "       [  5.28759349e+02,   4.22689670e+02,   3.38148619e+02,\n",
       "          2.73778269e+02,   2.17738944e+02,   1.72287526e+02,\n",
       "          1.33854345e+02,   1.05932173e+02,   7.97877465e+01,\n",
       "          6.11566667e+01,   4.77825029e+01,   3.81199870e+01,\n",
       "          3.15866726e+01,   2.47078007e+01,   2.04164399e+01,\n",
       "          1.60042720e+01,   1.17915430e+01,   8.47708450e+00,\n",
       "          5.75224494e+00]])"
      ]
     },
     "execution_count": 14,
     "metadata": {},
     "output_type": "execute_result"
    }
   ],
   "source": [
    "bolshoi['wprp']"
   ]
  },
  {
   "cell_type": "code",
   "execution_count": 1,
   "metadata": {
    "collapsed": true
   },
   "outputs": [],
   "source": [
    "from helpers.CorrelationFunction import projected_correlation\n",
    "import numpy as np"
   ]
  },
  {
   "cell_type": "code",
   "execution_count": 2,
   "metadata": {
    "collapsed": false
   },
   "outputs": [],
   "source": [
    "points = 250*np.random.random((500,3))\n",
    "rbins = np.logspace(0,1.5,10)\n",
    "zmax = 60\n",
    "boxsize = 250"
   ]
  },
  {
   "cell_type": "code",
   "execution_count": 3,
   "metadata": {
    "collapsed": false
   },
   "outputs": [
    {
     "data": {
      "text/plain": [
       "array([-51.06801776, -40.01152024, -23.46885504, -16.60202665,\n",
       "         7.98156761, -20.49866597,  -4.53892975,   1.90244315,  -2.15774842])"
      ]
     },
     "execution_count": 3,
     "metadata": {},
     "output_type": "execute_result"
    }
   ],
   "source": [
    "projected_correlation(points,rbins,zmax,boxsize)"
   ]
  },
  {
   "cell_type": "code",
   "execution_count": 4,
   "metadata": {
    "collapsed": false
   },
   "outputs": [
    {
     "data": {
      "text/plain": [
       "array([-51.06801776, -40.01152024, -23.46885504, -16.60202665,\n",
       "         7.98156761, -20.49866597,  -4.53892975,   1.90244315,  -2.15774842])"
      ]
     },
     "execution_count": 4,
     "metadata": {},
     "output_type": "execute_result"
    }
   ],
   "source": [
    "projected_correlation(points,rbins,zmax,boxsize,jackknife_nside=10)[0]"
   ]
  },
  {
   "cell_type": "code",
   "execution_count": 5,
   "metadata": {
    "collapsed": true
   },
   "outputs": [],
   "source": [
    "from halotools.mock_observables import wp"
   ]
  },
  {
   "cell_type": "code",
   "execution_count": 6,
   "metadata": {
    "collapsed": false
   },
   "outputs": [
    {
     "data": {
      "text/plain": [
       "array([-51.06801776, -40.01152024, -23.46885504, -16.60202665,\n",
       "         7.98156761, -20.49866597,  -4.53892975,   1.90244315,  -2.15774842])"
      ]
     },
     "execution_count": 6,
     "metadata": {},
     "output_type": "execute_result"
    }
   ],
   "source": [
    "wp(points, rbins, zmax, period=boxsize)"
   ]
  },
  {
   "cell_type": "code",
   "execution_count": null,
   "metadata": {
    "collapsed": true
   },
   "outputs": [],
   "source": []
  }
 ],
 "metadata": {
  "kernelspec": {
   "display_name": "Python 2",
   "language": "python",
   "name": "python2"
  },
  "language_info": {
   "codemirror_mode": {
    "name": "ipython",
    "version": 2
   },
   "file_extension": ".py",
   "mimetype": "text/x-python",
   "name": "python",
   "nbconvert_exporter": "python",
   "pygments_lexer": "ipython2",
   "version": "2.7.12"
  }
 },
 "nbformat": 4,
 "nbformat_minor": 0
}
